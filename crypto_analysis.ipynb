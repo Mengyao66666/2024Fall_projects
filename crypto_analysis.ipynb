{
 "cells": [
  {
   "cell_type": "code",
   "id": "initial_id",
   "metadata": {
    "collapsed": true,
    "ExecuteTime": {
     "end_time": "2024-12-07T20:29:15.776351Z",
     "start_time": "2024-12-07T20:29:14.088023Z"
    }
   },
   "source": [
    "import pandas as pd\n",
    "import numpy as np\n",
    "import matplotlib.pyplot as plt"
   ],
   "outputs": [],
   "execution_count": 5
  },
  {
   "metadata": {
    "ExecuteTime": {
     "end_time": "2024-12-07T21:04:17.447031Z",
     "start_time": "2024-12-07T21:04:17.411185Z"
    }
   },
   "cell_type": "code",
   "source": [
    "def get_bitcoin_data(filename: str) -> pd.DataFrame:\n",
    "    \"\"\"\n",
    "    Reads the bitcoin csv data into a pandas dataframe.\n",
    "    \n",
    "    :param filename: bitcoin csv file name\n",
    "    :return: df: bitcoin data as a pandas dataframe\n",
    "    \"\"\"\n",
    "    \n",
    "    df = pd.read_csv(filename)\n",
    "    \n",
    "    # converting 'Date' column to pd.datetime format to perform calculations\n",
    "    df['Date'] = pd.to_datetime(df['Date'])\n",
    "    \n",
    "    return df"
   ],
   "id": "f9dc9dabddf2c994",
   "outputs": [],
   "execution_count": 12
  },
  {
   "metadata": {
    "ExecuteTime": {
     "end_time": "2024-12-07T21:04:19.064512Z",
     "start_time": "2024-12-07T21:04:18.930120Z"
    }
   },
   "cell_type": "code",
   "source": "bitcoin_df = get_bitcoin_data('bitcoin_historical_data.csv')",
   "id": "7e7d03198dec4c38",
   "outputs": [],
   "execution_count": 13
  },
  {
   "metadata": {},
   "cell_type": "code",
   "outputs": [],
   "execution_count": null,
   "source": [
    "def transform_bitcoin_data(data: pd.DataFrame) -> pd.DataFrame:\n",
    "    \"\"\"\n",
    "    This function adds the following columns to our bitcoin dataframe:\n",
    "    %PriceChange: To look at price change within a day\n",
    "    priceDiff: To look at the per day absolute price change\n",
    "    normalizedVol: To compare relative trading activity\n",
    "    7DayMovingAvgPrice: To be able to observe long-term effects\n",
    "    30DayMovingAvgPrice: To be able to observe long-term effects\n",
    "    7DayMovingAvgVol: To be able to observe long-term effects\n",
    "    30DayMovingAvgVol: To be able to observe long-term effects\n",
    "    \n",
    "    TODO: Add Event flag: Pre [1], During[2], Post[3]\n",
    "    TODO: Add doctests to see if the calculations are correct\n",
    "    \n",
    "    :param data: bitcoin dataframe\n",
    "    :return: data: bitcoin dataframe with the columns above\n",
    "    \"\"\"\n",
    "    "
   ],
   "id": "c6b6f0619c235a4f"
  }
 ],
 "metadata": {
  "kernelspec": {
   "display_name": "Python 3",
   "language": "python",
   "name": "python3"
  },
  "language_info": {
   "codemirror_mode": {
    "name": "ipython",
    "version": 2
   },
   "file_extension": ".py",
   "mimetype": "text/x-python",
   "name": "python",
   "nbconvert_exporter": "python",
   "pygments_lexer": "ipython2",
   "version": "2.7.6"
  }
 },
 "nbformat": 4,
 "nbformat_minor": 5
}
